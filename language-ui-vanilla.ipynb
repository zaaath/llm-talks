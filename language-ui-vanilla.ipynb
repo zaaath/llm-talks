{
 "cells": [
  {
   "cell_type": "markdown",
   "id": "532983ed-637e-4f8a-aef7-a84213d67a1f",
   "metadata": {
    "slideshow": {
     "slide_type": "slide"
    },
    "tags": []
   },
   "source": [
    "## Language UI: Vanilla\n",
    "### by Leo Toff"
   ]
  },
  {
   "cell_type": "markdown",
   "id": "ab8474ec-bb66-49fd-aeb4-6751750828c3",
   "metadata": {
    "slideshow": {
     "slide_type": "slide"
    },
    "tags": []
   },
   "source": [
    "### Language UIs around us\n",
    "\n",
    "<div style=\"text-align: center;\">\n",
    "    <img src=\"mercedes-benz-chatgpt.png\" alt=\"alt text\" title=\"Title\" style=\"display: inline-block;\"/>\n",
    "</div>\n",
    "\n",
    "<div style=\"text-align: center; width: 70%;\">\n",
    "    <img src=\"volkswagen-chatgpt.png\" alt=\"alt text\" title=\"Title\" style=\"display: inline-block;\"/>\n",
    "</div>"
   ]
  },
  {
   "cell_type": "markdown",
   "id": "7c4dcf02-302e-43d7-ba0c-60c4cc88aaf8",
   "metadata": {
    "slideshow": {
     "slide_type": "slide"
    },
    "tags": []
   },
   "source": [
    "### Demo\n",
    "\n",
    "[![Video Title](https://img.youtube.com/vi/ufkLdwJ0Z-U/0.jpg)](https://www.youtube.com/watch?v=ufkLdwJ0Z-U \"Video Title\")\n",
    "\n",
    "https://www.youtube.com/watch?v=ufkLdwJ0Z-U"
   ]
  }
 ],
 "metadata": {
  "kernelspec": {
   "display_name": "Python 3 (ipykernel)",
   "language": "python",
   "name": "python3"
  },
  "language_info": {
   "codemirror_mode": {
    "name": "ipython",
    "version": 3
   },
   "file_extension": ".py",
   "mimetype": "text/x-python",
   "name": "python",
   "nbconvert_exporter": "python",
   "pygments_lexer": "ipython3",
   "version": "3.8.18"
  }
 },
 "nbformat": 4,
 "nbformat_minor": 5
}
